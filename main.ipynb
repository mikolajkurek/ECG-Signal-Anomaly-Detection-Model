{
 "cells": [
  {
   "metadata": {},
   "cell_type": "markdown",
   "source": [
    "# Projekt Modelu wykrywającego anomalie w sygnałach EKG\n",
    "***\n",
    "Link do datasetu: *https://www.kaggle.com/datasets/shayanfazeli/heartbeat*"
   ],
   "id": "a8616ebee3d3a579"
  },
  {
   "metadata": {
    "ExecuteTime": {
     "end_time": "2025-05-14T23:32:38.476451Z",
     "start_time": "2025-05-14T23:32:38.129115Z"
    }
   },
   "cell_type": "code",
   "source": [
    "import kagglehub\n",
    "\n",
    "# Download latest version\n",
    "path = kagglehub.dataset_download(\"shayanfazeli/heartbeat\")\n",
    "\n",
    "print(\"Path to dataset files:\", path)"
   ],
   "id": "initial_id",
   "outputs": [
    {
     "name": "stdout",
     "output_type": "stream",
     "text": [
      "Warning: Looks like you're using an outdated `kagglehub` version, please consider updating (latest version: 0.3.12)\n",
      "Path to dataset files: /Users/mikolaj/.cache/kagglehub/datasets/shayanfazeli/heartbeat/versions/1\n"
     ]
    }
   ],
   "execution_count": 6
  },
  {
   "metadata": {
    "ExecuteTime": {
     "end_time": "2025-05-14T23:31:36.409801Z",
     "start_time": "2025-05-14T23:31:36.407232Z"
    }
   },
   "cell_type": "code",
   "source": [
    "import os\n",
    "\n",
    "# Wyświetl zawartość folderu\n",
    "dataset_dir = path\n",
    "print(os.listdir(dataset_dir))"
   ],
   "id": "30eca4f06597b4d6",
   "outputs": [
    {
     "name": "stdout",
     "output_type": "stream",
     "text": [
      "['mitbih_test.csv', 'ptbdb_abnormal.csv', 'ptbdb_normal.csv', 'mitbih_train.csv']\n"
     ]
    }
   ],
   "execution_count": 2
  },
  {
   "metadata": {
    "ExecuteTime": {
     "end_time": "2025-05-14T23:31:38.473960Z",
     "start_time": "2025-05-14T23:31:36.427628Z"
    }
   },
   "cell_type": "code",
   "source": [
    "import pandas as pd\n",
    "\n",
    "# Wczytaj dane treningowe\n",
    "train_data = pd.read_csv(os.path.join(path, \"mitbih_train.csv\"))\n",
    "print(train_data.head())"
   ],
   "id": "b0ed6226f2b32a27",
   "outputs": [
    {
     "name": "stdout",
     "output_type": "stream",
     "text": [
      "   9.779411554336547852e-01  9.264705777168273926e-01  \\\n",
      "0                  0.960114                  0.863248   \n",
      "1                  1.000000                  0.659459   \n",
      "2                  0.925414                  0.665746   \n",
      "3                  0.967136                  1.000000   \n",
      "4                  0.927461                  1.000000   \n",
      "\n",
      "   6.813725233078002930e-01  2.450980395078659058e-01  \\\n",
      "0                  0.461538                  0.196581   \n",
      "1                  0.186486                  0.070270   \n",
      "2                  0.541436                  0.276243   \n",
      "3                  0.830986                  0.586854   \n",
      "4                  0.626943                  0.193437   \n",
      "\n",
      "   1.544117629528045654e-01  1.911764740943908691e-01  \\\n",
      "0                  0.094017                  0.125356   \n",
      "1                  0.070270                  0.059459   \n",
      "2                  0.196133                  0.077348   \n",
      "3                  0.356808                  0.248826   \n",
      "4                  0.094991                  0.072539   \n",
      "\n",
      "   1.519607901573181152e-01  8.578431606292724609e-02  \\\n",
      "0                  0.099715                  0.088319   \n",
      "1                  0.056757                  0.043243   \n",
      "2                  0.071823                  0.060773   \n",
      "3                  0.145540                  0.089202   \n",
      "4                  0.043178                  0.053541   \n",
      "\n",
      "   5.882352963089942932e-02  4.901960864663124084e-02  ...  \\\n",
      "0                  0.074074                  0.082621  ...   \n",
      "1                  0.054054                  0.045946  ...   \n",
      "2                  0.066298                  0.058011  ...   \n",
      "3                  0.117371                  0.150235  ...   \n",
      "4                  0.093264                  0.189983  ...   \n",
      "\n",
      "   0.000000000000000000e+00.79  0.000000000000000000e+00.80  \\\n",
      "0                          0.0                          0.0   \n",
      "1                          0.0                          0.0   \n",
      "2                          0.0                          0.0   \n",
      "3                          0.0                          0.0   \n",
      "4                          0.0                          0.0   \n",
      "\n",
      "   0.000000000000000000e+00.81  0.000000000000000000e+00.82  \\\n",
      "0                          0.0                          0.0   \n",
      "1                          0.0                          0.0   \n",
      "2                          0.0                          0.0   \n",
      "3                          0.0                          0.0   \n",
      "4                          0.0                          0.0   \n",
      "\n",
      "   0.000000000000000000e+00.83  0.000000000000000000e+00.84  \\\n",
      "0                          0.0                          0.0   \n",
      "1                          0.0                          0.0   \n",
      "2                          0.0                          0.0   \n",
      "3                          0.0                          0.0   \n",
      "4                          0.0                          0.0   \n",
      "\n",
      "   0.000000000000000000e+00.85  0.000000000000000000e+00.86  \\\n",
      "0                          0.0                          0.0   \n",
      "1                          0.0                          0.0   \n",
      "2                          0.0                          0.0   \n",
      "3                          0.0                          0.0   \n",
      "4                          0.0                          0.0   \n",
      "\n",
      "   0.000000000000000000e+00.87  0.000000000000000000e+00.88  \n",
      "0                          0.0                          0.0  \n",
      "1                          0.0                          0.0  \n",
      "2                          0.0                          0.0  \n",
      "3                          0.0                          0.0  \n",
      "4                          0.0                          0.0  \n",
      "\n",
      "[5 rows x 188 columns]\n"
     ]
    }
   ],
   "execution_count": 3
  },
  {
   "metadata": {
    "ExecuteTime": {
     "end_time": "2025-05-14T23:31:38.499846Z",
     "start_time": "2025-05-14T23:31:38.488574Z"
    }
   },
   "cell_type": "code",
   "source": [
    "print(train_data.info())\n",
    "print(train_data.iloc[:, -1].value_counts())  # Rozkład klas"
   ],
   "id": "1e77050b8d94adbe",
   "outputs": [
    {
     "name": "stdout",
     "output_type": "stream",
     "text": [
      "<class 'pandas.core.frame.DataFrame'>\n",
      "RangeIndex: 87553 entries, 0 to 87552\n",
      "Columns: 188 entries, 9.779411554336547852e-01 to 0.000000000000000000e+00.88\n",
      "dtypes: float64(188)\n",
      "memory usage: 125.6 MB\n",
      "None\n",
      "0.000000000000000000e+00.88\n",
      "0.0    72470\n",
      "4.0     6431\n",
      "2.0     5788\n",
      "1.0     2223\n",
      "3.0      641\n",
      "Name: count, dtype: int64\n"
     ]
    }
   ],
   "execution_count": 4
  },
  {
   "metadata": {},
   "cell_type": "markdown",
   "source": [
    "### Wyświetlanie sygnałów\n",
    "\n",
    "Ostatnia kolumna w wierszu to etykieta wskazująca klasę (0 = normalny rytm, 1–4 = różne rodzaje arytmii).\n",
    "\n",
    "> signal = train_data.iloc[0, :-1]\n",
    ">> 0 - wybiera wiersz\n",
    ">> :-1 - wszystkie kolumny z wyjątkiem ostatniej (klasa)\n"
   ],
   "id": "faaf6a79c03e828b"
  },
  {
   "metadata": {
    "ExecuteTime": {
     "end_time": "2025-05-14T23:31:39.157767Z",
     "start_time": "2025-05-14T23:31:38.516131Z"
    }
   },
   "cell_type": "code",
   "source": [
    "import matplotlib.pyplot as plt\n",
    "\n",
    "# Przykład: Wizualizacja pierwszego sygnału EKG\n",
    "signal = train_data.iloc[0, :-1]  # Pobierz sygnał (bez etykiety)\n",
    "plt.plot(signal)\n",
    "plt.title(\"Przykładowy sygnał EKG\")\n",
    "plt.xlabel(\"Czas\")\n",
    "plt.ylabel(\"Amplituda\")\n",
    "plt.show()"
   ],
   "id": "8faeb0ab825cb589",
   "outputs": [
    {
     "data": {
      "text/plain": [
       "<Figure size 640x480 with 1 Axes>"
      ],
      "image/png": "[encoded data removed]"
     },
     "metadata": {},
     "output_type": "display_data"
    }
   ],
   "execution_count": 5
  }
 ],
 "metadata": {
  "kernelspec": {
   "display_name": "Python 3",
   "language": "python",
   "name": "python3"
  },
  "language_info": {
   "codemirror_mode": {
    "name": "ipython",
    "version": 2
   },
   "file_extension": ".py",
   "mimetype": "text/x-python",
   "name": "python",
   "nbconvert_exporter": "python",
   "pygments_lexer": "ipython2",
   "version": "2.7.6"
  }
 },
 "nbformat": 4,
 "nbformat_minor": 5
}
